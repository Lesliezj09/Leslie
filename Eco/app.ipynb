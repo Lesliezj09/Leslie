{
 "cells": [
  {
   "cell_type": "code",
   "execution_count": 8,
   "id": "581e4626",
   "metadata": {},
   "outputs": [
    {
     "name": "stdout",
     "output_type": "stream",
     "text": [
      " * Serving Flask app '__main__'\n",
      " * Debug mode: off\n"
     ]
    },
    {
     "name": "stderr",
     "output_type": "stream",
     "text": [
      "\u001b[31m\u001b[1mWARNING: This is a development server. Do not use it in a production deployment. Use a production WSGI server instead.\u001b[0m\n",
      " * Running on http://127.0.0.1:5001\n",
      "\u001b[33mPress CTRL+C to quit\u001b[0m\n",
      "127.0.0.1 - - [02/Jan/2024 00:10:49] \"GET / HTTP/1.1\" 200 -\n",
      "127.0.0.1 - - [02/Jan/2024 00:10:52] \"POST /query HTTP/1.1\" 200 -\n"
     ]
    }
   ],
   "source": [
    "from flask import Flask, render_template, request\n",
    "import pandas as pd\n",
    "import sqlite3\n",
    "import os\n",
    "\n",
    "app = Flask(__name__)\n",
    "\n",
    "# 连接到数据库\n",
    "conn = sqlite3.connect('grades_database.db', check_same_thread=False)\n",
    "cursor = conn.cursor()\n",
    "\n",
    "# 主页路由\n",
    "@app.route('/')\n",
    "def index():\n",
    "    return render_template('index.html')\n",
    "\n",
    "# 查询函数\n",
    "def query_score_by_name(name):\n",
    "    try:\n",
    "        name = name.lower()\n",
    "        cursor.execute(\"SELECT * FROM grades WHERE LOWER(name)=?\", (name,))\n",
    "        result = cursor.fetchone()\n",
    "\n",
    "        if result:\n",
    "            result_string = f\"<div style='text-align: center;'>{result[1]} <br> 成绩: {result[2]} <br> 评价: {result[3]}</div>\" if len(result) > 3 else f\"找到 {result[1]} 的成绩，但未找到评价信息\"\n",
    "            return result_string.replace('\\n', '<br>')\n",
    "        else:\n",
    "            return f\"找不到学生 {name} 的信息\"\n",
    "    except Exception as e:\n",
    "        return f\"发生错误: {e}\"\n",
    "\n",
    "# 查询路由\n",
    "@app.route('/query', methods=['GET', 'POST'])\n",
    "def query():\n",
    "    if request.method == 'POST':\n",
    "        query_name = request.form['name']\n",
    "        result = query_score_by_name(query_name)\n",
    "        return render_template('index.html', result=result)\n",
    "\n",
    "    # 如果是 GET 请求，可以选择返回一个空白页面或其他信息\n",
    "    return render_template('index.html', result=None)\n",
    "\n",
    "\n",
    "\n",
    "\n",
    "if __name__ == '__main__':\n",
    "    app.run(port=5001)\n",
    "    # app.run # app.run(port=5001)  # 默认端口 http://127.0.0.1:5000/\n"
   ]
  }
 ],
 "metadata": {
  "kernelspec": {
   "display_name": "Python 3 (ipykernel)",
   "language": "python",
   "name": "python3"
  },
  "language_info": {
   "codemirror_mode": {
    "name": "ipython",
    "version": 3
   },
   "file_extension": ".py",
   "mimetype": "text/x-python",
   "name": "python",
   "nbconvert_exporter": "python",
   "pygments_lexer": "ipython3",
   "version": "3.12.1"
  }
 },
 "nbformat": 4,
 "nbformat_minor": 5
}
